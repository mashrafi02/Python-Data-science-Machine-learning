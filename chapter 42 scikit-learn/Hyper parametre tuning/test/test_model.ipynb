{
 "cells": [
  {
   "cell_type": "code",
   "execution_count": 1,
   "metadata": {},
   "outputs": [],
   "source": [
    "import pywt, json, joblib\n",
    "import cv2\n",
    "import numpy as np\n",
    "import base64\n",
    "from sklearn.pipeline import Pipeline"
   ]
  },
  {
   "cell_type": "code",
   "execution_count": 2,
   "metadata": {},
   "outputs": [],
   "source": [
    "face_cascade = cv2.CascadeClassifier(\"./opencv/haarcascades/haarcascade_frontalface_default.xml\")\n",
    "eye_cascade = cv2.CascadeClassifier(\"./opencv/haarcascades/haarcascade_eye.xml\")"
   ]
  },
  {
   "cell_type": "code",
   "execution_count": 3,
   "metadata": {},
   "outputs": [],
   "source": [
    "def get_cropped_image_for_2_eyes(image_path):\n",
    "    img_main =cv2.imread(image_path) \n",
    "    if img_main is None:\n",
    "        print('Not an image')\n",
    "        return None\n",
    "    else:\n",
    "        try:\n",
    "            gray_img = cv2.cvtColor(img_main, cv2.COLOR_BGR2GRAY)\n",
    "        except:\n",
    "            print('Gray image is not available')\n",
    "            return None\n",
    "        else:\n",
    "            faces_gray = face_cascade.detectMultiScale(gray_img, 1.1, 5)\n",
    "            for (x,y,w,h) in faces_gray:\n",
    "                roi_color = img_main[y:y+h, x:x+w]\n",
    "                eyes_gray = eye_cascade.detectMultiScale(gray_img, 1.1, 5)\n",
    "                if len(eyes_gray) >=2:\n",
    "                    cv2.imwrite('./uploads/cropped.png', roi_color)"
   ]
  },
  {
   "cell_type": "code",
   "execution_count": 4,
   "metadata": {},
   "outputs": [],
   "source": [
    "def w2d(img, mode='db1', level=5):\n",
    "    imArray = img\n",
    "    #Datatype conversions\n",
    "    #convert to grayscale\n",
    "    imArray = cv2.cvtColor( imArray,cv2.COLOR_RGB2GRAY )\n",
    "    #convert to float\n",
    "    imArray =  np.float32(imArray)   \n",
    "    imArray /= 255\n",
    "    # compute coefficients \n",
    "    coeffs=pywt.wavedec2(imArray, mode, level=level)\n",
    "\n",
    "    #Process Coefficients\n",
    "    coeffs_H=list(coeffs)  \n",
    "    coeffs_H[0] *= 0\n",
    "\n",
    "    # reconstruction\n",
    "    imArray_H=pywt.waverec2(coeffs_H, mode);\n",
    "    imArray_H *= 255\n",
    "    imArray_H =  np.uint8(imArray_H)\n",
    "\n",
    "    return imArray_H\n",
    "\n",
    "\n",
    "def get_the_features(image):\n",
    "    X = []\n",
    "    img = cv2.imread(image) \n",
    "    if img is not None:  \n",
    "        scalled_img = cv2.resize(img, (32, 32)) \n",
    "        wavelet_img = w2d(img, 'db1', 5 )\n",
    "        scalled_wavelet_img = cv2.resize(wavelet_img, (32, 32)) \n",
    "\n",
    "        combined_image = np.vstack((scalled_img.reshape(32*32*3,1), scalled_wavelet_img.reshape(32*32,1))) # I'm stacking \n",
    "        X.append(combined_image)\n",
    "        return X"
   ]
  },
  {
   "cell_type": "code",
   "execution_count": 7,
   "metadata": {},
   "outputs": [],
   "source": [
    "get_cropped_image_for_2_eyes('./uploads/cristiano-ronaldo-al-nassr-2023-1692731063-114594.jpg')"
   ]
  },
  {
   "cell_type": "code",
   "execution_count": 8,
   "metadata": {},
   "outputs": [],
   "source": [
    "X = get_the_features('./uploads/cropped.png')"
   ]
  },
  {
   "cell_type": "code",
   "execution_count": 9,
   "metadata": {},
   "outputs": [
    {
     "name": "stdout",
     "output_type": "stream",
     "text": [
      "[array([[149],\n",
      "       [153],\n",
      "       [128],\n",
      "       ...,\n",
      "       [ 21],\n",
      "       [  1],\n",
      "       [  0]], dtype=uint8)]\n"
     ]
    }
   ],
   "source": [
    "print(X)"
   ]
  },
  {
   "cell_type": "code",
   "execution_count": 10,
   "metadata": {},
   "outputs": [
    {
     "data": {
      "text/plain": [
       "(1, 4096)"
      ]
     },
     "execution_count": 10,
     "metadata": {},
     "output_type": "execute_result"
    }
   ],
   "source": [
    "X = np.array(X).reshape(len(X),4096).astype('float')\n",
    "X.shape"
   ]
  },
  {
   "cell_type": "code",
   "execution_count": 14,
   "metadata": {},
   "outputs": [],
   "source": [
    "model = joblib.load('./artifacts/model.pkl')"
   ]
  },
  {
   "cell_type": "code",
   "execution_count": 28,
   "metadata": {},
   "outputs": [
    {
     "name": "stdout",
     "output_type": "stream",
     "text": [
      "4\n"
     ]
    }
   ],
   "source": [
    "print(model.predict(X)[0])"
   ]
  },
  {
   "cell_type": "code",
   "execution_count": 24,
   "metadata": {},
   "outputs": [],
   "source": [
    "np.set_printoptions(suppress=True)"
   ]
  },
  {
   "cell_type": "code",
   "execution_count": 26,
   "metadata": {},
   "outputs": [
    {
     "data": {
      "text/plain": [
       "array([[ 0.01344681,  0.0329523 ,  0.00742812,  0.01284548, 99.93332729]])"
      ]
     },
     "execution_count": 26,
     "metadata": {},
     "output_type": "execute_result"
    }
   ],
   "source": [
    "model.predict_proba(X)*100"
   ]
  },
  {
   "cell_type": "code",
   "execution_count": 31,
   "metadata": {},
   "outputs": [
    {
     "name": "stdout",
     "output_type": "stream",
     "text": [
      "0.013446808633419176\n",
      "0.032952299773476905\n",
      "0.007428116974708331\n",
      "0.012845481039459788\n",
      "99.93332729357893\n"
     ]
    }
   ],
   "source": [
    "for i in model.predict_proba(X)[0]*100:\n",
    "    print(i)"
   ]
  }
 ],
 "metadata": {
  "kernelspec": {
   "display_name": "Python 3",
   "language": "python",
   "name": "python3"
  },
  "language_info": {
   "codemirror_mode": {
    "name": "ipython",
    "version": 3
   },
   "file_extension": ".py",
   "mimetype": "text/x-python",
   "name": "python",
   "nbconvert_exporter": "python",
   "pygments_lexer": "ipython3",
   "version": "3.12.2"
  }
 },
 "nbformat": 4,
 "nbformat_minor": 2
}
