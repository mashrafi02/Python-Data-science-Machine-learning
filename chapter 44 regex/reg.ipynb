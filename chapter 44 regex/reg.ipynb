{
 "cells": [
  {
   "cell_type": "code",
   "execution_count": 7,
   "metadata": {},
   "outputs": [],
   "source": [
    "import re\n",
    "import warnings\n",
    "warnings.filterwarnings(\"ignore\")"
   ]
  },
  {
   "cell_type": "code",
   "execution_count": 8,
   "metadata": {},
   "outputs": [
    {
     "data": {
      "text/plain": [
       "(['7482936587'], ['(987)-654-3210'])"
      ]
     },
     "execution_count": 8,
     "metadata": {},
     "output_type": "execute_result"
    }
   ],
   "source": [
    "text1 = 'Elon Musk recently announced that Tesla will launch its new Model Y by the end of 2024. In a surprise tweet, he also hinted at a possible collaboration with SpaceX to develop a new propulsion system. To get more information, you can call (987)-654-3210. The project ID for this initiative is 7482936587, and it is expected to revolutionize the industry.'\n",
    "\n",
    "patttern1 = '\\d{10}'\n",
    "patttern2 = '\\(\\d{3}\\)-\\d{3}-\\d{4}'\n",
    "\n",
    "matches1 = re.findall(patttern1, text1)\n",
    "matches2 = re.findall(patttern2, text1)\n",
    "matches1, matches2"
   ]
  },
  {
   "cell_type": "code",
   "execution_count": 9,
   "metadata": {},
   "outputs": [
    {
     "data": {
      "text/plain": [
       "['The Dawn of a New Space Age',\n",
       " 'Technological Marvels Paving the Way',\n",
       " 'The Emerging Space Economy']"
      ]
     },
     "execution_count": 9,
     "metadata": {},
     "output_type": "execute_result"
    }
   ],
   "source": [
    "text2 = \"Note 1 - The Dawn of a New Space Age\\nSpace exploration is undergoing a transformation like never before, driven by private companies and visionary leaders. Among them, Elon Musk and SpaceX have emerged as frontrunners, consistently pushing the envelope with groundbreaking innovations. The recent unveiling of the Starship spacecraft marks a significant leap toward making interplanetary travel a reality. Designed to carry both crew and cargo to various celestial destinations, Starship’s ultimate goal is to establish a human presence on Mars. With a project ID of 48273912, the spacecraft has already completed several successful test flights, demonstrating its capability for rapid reuse and interplanetary transport. For those interested in learning more about the latest advancements, you can contact the SpaceX hotline at 987-123-4567.\\nNote 2 - Technological Marvels Paving the Way\\nWhat makes this era of space exploration particularly exciting is the integration of advanced technologies like AI, robotics, and sustainable energy. SpaceX isn’t just developing rockets; it’s crafting an entire ecosystem that supports long-duration space missions. The recent collaboration with NASA has led to the Artemis project, aiming to land the first woman and the next man on the Moon by 2025. This partnership not only furthers scientific research but also lays the groundwork for future Mars expeditions. With initiatives such as the Mars Habitat Simulation Program (Project Code 59218476), researchers are rigorously testing human resilience in controlled environments that mimic Martian conditions.\\nNote 3 - The Emerging Space Economy\\nThe ripple effect of these endeavors extends beyond just technological advancements. Companies worldwide are beginning to envision a future where space is not just the final frontier but a commercial opportunity. From mining asteroids for rare minerals to establishing orbital hotels, the possibilities are endless. The potential economic impact is enormous, with estimates predicting a trillion-dollar space economy by 2040. As these projects continue to break new ground, humanity is on the cusp of an era where the stars are no longer out of reach but within our grasp, promising a future filled with exploration, discovery, and boundless opportunity.\"\n",
    "\n",
    "patttern3 = 'Note \\d - ([^\\n]*)'\n",
    "\n",
    "matches3 = re.findall(patttern3,text2)\n",
    "matches3"
   ]
  },
  {
   "cell_type": "code",
   "execution_count": 11,
   "metadata": {},
   "outputs": [
    {
     "data": {
      "text/plain": [
       "(['FY2024 Q1', 'FY2023 Q4'], ['2024 Q1', '2023 Q4'])"
      ]
     },
     "execution_count": 11,
     "metadata": {},
     "output_type": "execute_result"
    }
   ],
   "source": [
    "text3 = \"In FY2024 Q1, the company experienced robust growth across all business segments, with total revenue reaching $300 million. This marks a 12% increase compared to FY2023 Q4. The success was driven by the launch of new products, including Project Code 3829471, which significantly boosted sales. Customer feedback has been overwhelmingly positive, and our service satisfaction rating improved by 8%. For detailed insights, contact us at 654-321-9870.\"\n",
    "\n",
    "patttern4 = 'FY\\d{4} Q[1234]|FY\\d{4} Q[1-4]'\n",
    "patttern5 = 'FY(\\d{4} Q[1-4])'\n",
    "\n",
    "matches4 = re.findall(patttern4,text3)\n",
    "matches5 = re.findall(patttern5, text3)\n",
    "matches4, matches5"
   ]
  },
  {
   "cell_type": "code",
   "execution_count": 12,
   "metadata": {},
   "outputs": [
    {
     "data": {
      "text/plain": [
       "['275.43', '124.56', '110.87', '89.32', '42.87']"
      ]
     },
     "execution_count": 12,
     "metadata": {},
     "output_type": "execute_result"
    }
   ],
   "source": [
    "text4 = \"In FY2024 Q1, the company achieved total revenue of $275.43 million, reflecting a 9.2% increase compared to FY2023 Q1. This growth was primarily driven by strong sales in the North American market, which contributed $124.56 million, up from $110.87 million in the previous year. The European market also performed well, generating $89.32 million, a 7.8% year-over-year growth. The new product line, introduced in early January, accounted for $42.87 million in sales, surpassing initial expectations.\"\n",
    "\n",
    "patttern6 = '\\$([\\d\\.]+)'\n",
    "\n",
    "matches6 = re.findall(patttern6,text4)\n",
    "matches6"
   ]
  },
  {
   "cell_type": "code",
   "execution_count": 13,
   "metadata": {},
   "outputs": [
    {
     "data": {
      "text/plain": [
       "[('2024 Q1', '275.43'), ('2023 Q1', '124.56'), ('2024 Q1', '48.23')]"
      ]
     },
     "execution_count": 13,
     "metadata": {},
     "output_type": "execute_result"
    }
   ],
   "source": [
    "text5 = \"In FY2024 Q1 total revenue of $275.43 million, reflecting a 9.2% increase compared to FY2023 Q1. This growth was primarily driven by strong sales in the North American market, which contributed $124.56 million, up from $110.87 million in the previous year. The net profit for FY2024 Q1 was reported at $48.23 million The European market also performed well, generating $89.32 million, a 7.8% year-over-year growth. The new product line, introduced in early January, accounted for $42.87 million in sales, surpassing initial expectations.\"\n",
    "\n",
    "patttern7 = 'FY(\\d{4} Q[1-4])[^\\$]+\\$([\\d\\.]+)'\n",
    "\n",
    "matches7 = re.findall(patttern7,text5)\n",
    "matches7"
   ]
  },
  {
   "cell_type": "markdown",
   "metadata": {},
   "source": [
    "Here the search method will only find the first occurance"
   ]
  },
  {
   "cell_type": "code",
   "execution_count": 14,
   "metadata": {},
   "outputs": [
    {
     "data": {
      "text/plain": [
       "<re.Match object; span=(3, 37), match='FY2024 Q1 total revenue of $275.43'>"
      ]
     },
     "execution_count": 14,
     "metadata": {},
     "output_type": "execute_result"
    }
   ],
   "source": [
    "text5 = \"In FY2024 Q1 total revenue of $275.43 million, reflecting a 9.2% increase compared to FY2023 Q1. This growth was primarily driven by strong sales in the North American market, which contributed $124.56 million, up from $110.87 million in the previous year. The net profit for FY2024 Q1 was reported at $48.23 million The European market also performed well, generating $89.32 million, a 7.8% year-over-year growth. The new product line, introduced in early January, accounted for $42.87 million in sales, surpassing initial expectations.\"\n",
    "\n",
    "patttern7 = 'FY(\\d{4} Q[1-4])[^\\$]+\\$([\\d\\.]+)'\n",
    "\n",
    "matches7 = re.search(patttern7,text5)\n",
    "matches7"
   ]
  },
  {
   "cell_type": "code",
   "execution_count": 15,
   "metadata": {},
   "outputs": [
    {
     "data": {
      "text/plain": [
       "('2024 Q1', '275.43')"
      ]
     },
     "execution_count": 15,
     "metadata": {},
     "output_type": "execute_result"
    }
   ],
   "source": [
    "matches7.groups()"
   ]
  }
 ],
 "metadata": {
  "kernelspec": {
   "display_name": "Python 3",
   "language": "python",
   "name": "python3"
  },
  "language_info": {
   "codemirror_mode": {
    "name": "ipython",
    "version": 3
   },
   "file_extension": ".py",
   "mimetype": "text/x-python",
   "name": "python",
   "nbconvert_exporter": "python",
   "pygments_lexer": "ipython3",
   "version": "3.12.5"
  }
 },
 "nbformat": 4,
 "nbformat_minor": 2
}
