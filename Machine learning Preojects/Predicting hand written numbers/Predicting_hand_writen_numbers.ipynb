{
  "cells": [
    {
      "cell_type": "code",
      "execution_count": 1,
      "metadata": {
        "id": "1iKUx70zkfwd"
      },
      "outputs": [],
      "source": [
        "import tensorflow as tf\n",
        "from tensorflow.keras.models import Sequential\n",
        "from tensorflow.keras.layers import Dense, Softmax, ReLU, Flatten, Conv2D, MaxPool2D, Dropout\n",
        "from tensorflow.keras.datasets import mnist\n",
        "import numpy as np\n",
        "import matplotlib.pyplot as plt"
      ]
    },
    {
      "cell_type": "markdown",
      "metadata": {
        "id": "tW_punCmWRk9"
      },
      "source": [
        "### Load and preprocess the data"
      ]
    },
    {
      "cell_type": "code",
      "execution_count": 2,
      "metadata": {
        "colab": {
          "base_uri": "https://localhost:8080/"
        },
        "id": "r7IEV2PCldJ-",
        "outputId": "9a538d69-0db7-4390-8d73-2404f91bded8"
      },
      "outputs": [
        {
          "name": "stdout",
          "output_type": "stream",
          "text": [
            "Downloading data from https://storage.googleapis.com/tensorflow/tf-keras-datasets/mnist.npz\n",
            "11490434/11490434 [==============================] - 0s 0us/step\n"
          ]
        }
      ],
      "source": [
        "# Load the mnist data set\n",
        "(x_train, y_train), (x_test, y_test) = mnist.load_data()\n",
        "\n",
        "# reshape the data\n",
        "x_train = x_train.reshape(x_train.shape[0], 28, 28, 1)\n",
        "x_test = x_test.reshape(x_test.shape[0], 28, 28, 1)\n",
        "\n",
        "# normalize the input data\n",
        "x_train = x_train.astype('float32') / 255.0\n",
        "x_test = x_test.astype('float32') / 255.0\n",
        "\n",
        "# convert the labels to categorical format\n",
        "y_train = tf.keras.utils.to_categorical(y_train, 10)\n",
        "y_test = tf.keras.utils.to_categorical(y_test, 10)"
      ]
    },
    {
      "cell_type": "markdown",
      "metadata": {
        "id": "Ht-P_t4xiX5q"
      },
      "source": [
        "### Define the model"
      ]
    },
    {
      "cell_type": "code",
      "execution_count": 3,
      "metadata": {
        "id": "clQeCENHibWy"
      },
      "outputs": [],
      "source": [
        "# defining the model\n",
        "model = Sequential()\n",
        "\n",
        "# input layer\n",
        "model.add(Conv2D(filters=32, kernel_size=(3,3), strides=(1,1), padding='same', input_shape=(28,28,1)))\n",
        "model.add(ReLU())\n",
        "\n",
        "# Convolutional layer 1\n",
        "model.add(Conv2D(filters=32, kernel_size=(3,3), strides=(1,1), padding='same'))\n",
        "model.add(ReLU())\n",
        "\n",
        "# Max pooling layer 1\n",
        "model.add(MaxPool2D(pool_size=(2,2), strides=(2,2), padding='same'))\n",
        "\n",
        "# Convolutional layer 2\n",
        "model.add(Conv2D(filters=64, kernel_size=(3,3), strides=(1,1), padding='same'))\n",
        "model.add(ReLU())\n",
        "\n",
        "# MAx pooling layer 2\n",
        "model.add(MaxPool2D(pool_size=(2,2), strides=(2,2), padding='same'))\n",
        "\n",
        "# faltten layer\n",
        "model.add(Flatten())\n",
        "\n",
        "# fully connected layer\n",
        "model.add(Dense(units = 128))\n",
        "model.add(ReLU())\n",
        "\n",
        "# output layer\n",
        "model.add(Dense(units = 10))\n",
        "model.add(Softmax())\n",
        "\n",
        "\n"
      ]
    },
    {
      "cell_type": "markdown",
      "metadata": {
        "id": "HYE4ZD0slSTZ"
      },
      "source": [
        "### Compiling the layer"
      ]
    },
    {
      "cell_type": "code",
      "execution_count": 4,
      "metadata": {
        "id": "Q0d5xCdFlR7h"
      },
      "outputs": [],
      "source": [
        "# Compile the layer\n",
        "model.compile(optimizer='adam', loss='categorical_crossentropy', metrics=['accuracy'])"
      ]
    },
    {
      "cell_type": "markdown",
      "metadata": {
        "id": "rSgaqwMzlqn0"
      },
      "source": [
        "### Train the model"
      ]
    },
    {
      "cell_type": "code",
      "execution_count": 5,
      "metadata": {
        "colab": {
          "base_uri": "https://localhost:8080/"
        },
        "id": "Cjg5wGz8lsRx",
        "outputId": "7d7d161b-7f67-48bc-889c-aaab26c019f6"
      },
      "outputs": [
        {
          "name": "stdout",
          "output_type": "stream",
          "text": [
            "Epoch 1/10\n",
            "1500/1500 [==============================] - 142s 94ms/step - loss: 0.1314 - accuracy: 0.9589 - val_loss: 0.0558 - val_accuracy: 0.9833\n",
            "Epoch 2/10\n",
            "1500/1500 [==============================] - 139s 92ms/step - loss: 0.0408 - accuracy: 0.9875 - val_loss: 0.0399 - val_accuracy: 0.9877\n",
            "Epoch 3/10\n",
            "1500/1500 [==============================] - 136s 91ms/step - loss: 0.0281 - accuracy: 0.9912 - val_loss: 0.0477 - val_accuracy: 0.9849\n",
            "Epoch 4/10\n",
            "1500/1500 [==============================] - 140s 93ms/step - loss: 0.0198 - accuracy: 0.9940 - val_loss: 0.0406 - val_accuracy: 0.9890\n",
            "Epoch 5/10\n",
            "1500/1500 [==============================] - 138s 92ms/step - loss: 0.0165 - accuracy: 0.9942 - val_loss: 0.0342 - val_accuracy: 0.9910\n",
            "Epoch 6/10\n",
            "1500/1500 [==============================] - 139s 93ms/step - loss: 0.0120 - accuracy: 0.9960 - val_loss: 0.0457 - val_accuracy: 0.9887\n",
            "Epoch 7/10\n",
            "1500/1500 [==============================] - 138s 92ms/step - loss: 0.0099 - accuracy: 0.9967 - val_loss: 0.0440 - val_accuracy: 0.9908\n",
            "Epoch 8/10\n",
            "1500/1500 [==============================] - 143s 95ms/step - loss: 0.0092 - accuracy: 0.9967 - val_loss: 0.0418 - val_accuracy: 0.9897\n",
            "Epoch 9/10\n",
            "1500/1500 [==============================] - 137s 91ms/step - loss: 0.0076 - accuracy: 0.9973 - val_loss: 0.0526 - val_accuracy: 0.9892\n",
            "Epoch 10/10\n",
            "1500/1500 [==============================] - 138s 92ms/step - loss: 0.0073 - accuracy: 0.9976 - val_loss: 0.0375 - val_accuracy: 0.9912\n"
          ]
        },
        {
          "data": {
            "text/plain": [
              "<keras.src.callbacks.History at 0x7a6c09351180>"
            ]
          },
          "execution_count": 5,
          "metadata": {},
          "output_type": "execute_result"
        }
      ],
      "source": [
        "# training the model\n",
        "model.fit(x_train, y_train, epochs=10, batch_size=32, validation_split=0.2)"
      ]
    },
    {
      "cell_type": "markdown",
      "metadata": {
        "id": "nQyf6oQpscdE"
      },
      "source": [
        "### Evaluate the model"
      ]
    },
    {
      "cell_type": "code",
      "execution_count": 6,
      "metadata": {
        "colab": {
          "base_uri": "https://localhost:8080/"
        },
        "id": "S3TKKglZsekS",
        "outputId": "ebc78dd1-3403-4cd4-f0d4-e277a31bcd6f"
      },
      "outputs": [
        {
          "name": "stdout",
          "output_type": "stream",
          "text": [
            "313/313 [==============================] - 8s 25ms/step - loss: 0.0329 - accuracy: 0.9905\n",
            "Test Loss: 0.03289685398340225\n",
            "Test Accuracy: 0.9904999732971191\n"
          ]
        }
      ],
      "source": [
        "test_loss, test_accuracy = model.evaluate(x_test, y_test)\n",
        "print('Test Loss:', test_loss)\n",
        "print('Test Accuracy:', test_accuracy)"
      ]
    },
    {
      "cell_type": "markdown",
      "metadata": {
        "id": "MkfokOPusqNC"
      },
      "source": [
        "### Test on new input data"
      ]
    },
    {
      "cell_type": "code",
      "execution_count": 10,
      "metadata": {
        "colab": {
          "base_uri": "https://localhost:8080/",
          "height": 469
        },
        "id": "MqOCwU-Fsmiq",
        "outputId": "2bd0c6ec-daa7-4d8a-d3b1-77925e43018d"
      },
      "outputs": [
        {
          "name": "stdout",
          "output_type": "stream",
          "text": [
            "Enter an index number under 10000 5000\n"
          ]
        },
        {
          "data": {
            "image/png": "[encoded data removed]",
            "text/plain": [
              "<Figure size 640x480 with 1 Axes>"
            ]
          },
          "metadata": {},
          "output_type": "display_data"
        }
      ],
      "source": [
        "# Defining function to classify new input\n",
        "def classify_new_input(model, input):\n",
        "  # preprocess the input\n",
        "  input = input.reshape(1, 28, 28, 1)\n",
        "\n",
        "  # get the model prediction\n",
        "  prediction = model.predict(input)\n",
        "\n",
        "  return np.argmax(prediction)\n",
        "\n",
        "# Select a new image index\n",
        "image_index = int(input(\"Enter an index number under 10000 \"))\n",
        "\n",
        "# Display the image in image_index\n",
        "plt.imshow(x_test[image_index].reshape(28,28), cmap='gray')\n",
        "plt.title(f\"Actual class: {np.argmax(y_test[image_index])}\")\n",
        "plt.show()\n"
      ]
    },
    {
      "cell_type": "markdown",
      "metadata": {
        "id": "ZMtHjdFCHN9r"
      },
      "source": [
        "### testing our function with image_index test image"
      ]
    },
    {
      "cell_type": "code",
      "execution_count": 11,
      "metadata": {
        "colab": {
          "base_uri": "https://localhost:8080/"
        },
        "id": "3jmJtVDGHM1u",
        "outputId": "7fb240d3-480a-47bc-f9b0-1a9e5da873a4"
      },
      "outputs": [
        {
          "name": "stdout",
          "output_type": "stream",
          "text": [
            "1/1 [==============================] - 0s 26ms/step\n",
            "Predicted class: 3\n",
            "Actual class: 3\n",
            "Correct prediction\n"
          ]
        }
      ],
      "source": [
        "# Classify the image_index test image\n",
        "predicted_class = classify_new_input(model, x_test[image_index])\n",
        "print(f\"Predicted class: {predicted_class}\")\n",
        "\n",
        "# Printing the actual class to compare\n",
        "actual_class = np.argmax(y_test[image_index])\n",
        "print(f\"Actual class: {actual_class}\")\n",
        "\n",
        "# Declaring the final prediction accuracy\n",
        "if predicted_class == actual_class:\n",
        "  print(\"Correct prediction\")\n",
        "else:\n",
        "  print(\"Incorrect prediction\")\n",
        "\n"
      ]
    }
  ],
  "metadata": {
    "colab": {
      "provenance": []
    },
    "kernelspec": {
      "display_name": "Python 3",
      "name": "python3"
    },
    "language_info": {
      "codemirror_mode": {
        "name": "ipython",
        "version": 3
      },
      "file_extension": ".py",
      "mimetype": "text/x-python",
      "name": "python",
      "nbconvert_exporter": "python",
      "pygments_lexer": "ipython3",
      "version": "3.12.2"
    }
  },
  "nbformat": 4,
  "nbformat_minor": 0
}
